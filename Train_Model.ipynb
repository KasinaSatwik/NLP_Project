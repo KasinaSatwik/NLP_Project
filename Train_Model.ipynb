{
  "nbformat": 4,
  "nbformat_minor": 0,
  "metadata": {
    "colab": {
      "name": "Train_Model.ipynb",
      "provenance": [],
      "collapsed_sections": [],
      "authorship_tag": "ABX9TyObnZJYwDnzKtFi8J5TAemJ",
      "include_colab_link": true
    },
    "kernelspec": {
      "name": "python3",
      "display_name": "Python 3"
    },
    "language_info": {
      "name": "python"
    }
  },
  "cells": [
    {
      "cell_type": "markdown",
      "metadata": {
        "id": "view-in-github",
        "colab_type": "text"
      },
      "source": [
        "<a href=\"https://colab.research.google.com/github/KasinaSatwik/NLP_Project/blob/main/Train_Model.ipynb\" target=\"_parent\"><img src=\"https://colab.research.google.com/assets/colab-badge.svg\" alt=\"Open In Colab\"/></a>"
      ]
    },
    {
      "cell_type": "code",
      "metadata": {
        "id": "dyZrTiQBQtsi"
      },
      "source": [
        "import re\n",
        "import numpy as np\n",
        "import pandas as pd\n",
        "# plotting\n",
        "import seaborn as sns\n",
        "from wordcloud import WordCloud\n",
        "import matplotlib.pyplot as plt\n",
        "# nltk\n",
        "from nltk.stem import WordNetLemmatizer\n",
        "# sklearn\n",
        "from sklearn.svm import LinearSVC\n",
        "from sklearn.naive_bayes import BernoulliNB\n",
        "from sklearn.linear_model import LogisticRegression\n",
        "from sklearn.model_selection import train_test_split\n",
        "from sklearn.feature_extraction.text import TfidfVectorizer\n",
        "from sklearn.metrics import confusion_matrix, classification_report"
      ],
      "execution_count": null,
      "outputs": []
    },
    {
      "cell_type": "code",
      "metadata": {
        "colab": {
          "base_uri": "https://localhost:8080/"
        },
        "id": "OPtvfxYoRa2K",
        "outputId": "f7d738f4-2276-48ef-bdc9-400828d5d41a"
      },
      "source": [
        "from google.colab import drive\n",
        "drive.mount('/content/gdrive')"
      ],
      "execution_count": null,
      "outputs": [
        {
          "output_type": "stream",
          "name": "stdout",
          "text": [
            "Drive already mounted at /content/gdrive; to attempt to forcibly remount, call drive.mount(\"/content/gdrive\", force_remount=True).\n"
          ]
        }
      ]
    },
    {
      "cell_type": "code",
      "metadata": {
        "colab": {
          "base_uri": "https://localhost:8080/"
        },
        "id": "_kCM4MvjRjca",
        "outputId": "43389a35-5ee9-4a18-dedf-b04f64e45704"
      },
      "source": [
        "%cd gdrive/My Drive/NLP_Project"
      ],
      "execution_count": null,
      "outputs": [
        {
          "output_type": "stream",
          "name": "stdout",
          "text": [
            "[Errno 2] No such file or directory: 'gdrive/My Drive/NLP_Project'\n",
            "/content/gdrive/My Drive/NLP_Project\n"
          ]
        }
      ]
    },
    {
      "cell_type": "code",
      "metadata": {
        "id": "ewDaOeawRqOt"
      },
      "source": [
        "data = pd.read_csv('final.csv', usecols=['text','compound'])"
      ],
      "execution_count": null,
      "outputs": []
    },
    {
      "cell_type": "code",
      "metadata": {
        "colab": {
          "base_uri": "https://localhost:8080/",
          "height": 423
        },
        "id": "a457p17TSArB",
        "outputId": "de07f724-8591-4ceb-e953-972dcd5ab5e8"
      },
      "source": [
        "data"
      ],
      "execution_count": null,
      "outputs": [
        {
          "output_type": "execute_result",
          "data": {
            "text/html": [
              "<div>\n",
              "<style scoped>\n",
              "    .dataframe tbody tr th:only-of-type {\n",
              "        vertical-align: middle;\n",
              "    }\n",
              "\n",
              "    .dataframe tbody tr th {\n",
              "        vertical-align: top;\n",
              "    }\n",
              "\n",
              "    .dataframe thead th {\n",
              "        text-align: right;\n",
              "    }\n",
              "</style>\n",
              "<table border=\"1\" class=\"dataframe\">\n",
              "  <thead>\n",
              "    <tr style=\"text-align: right;\">\n",
              "      <th></th>\n",
              "      <th>text</th>\n",
              "      <th>compound</th>\n",
              "    </tr>\n",
              "  </thead>\n",
              "  <tbody>\n",
              "    <tr>\n",
              "      <th>0</th>\n",
              "      <td>elonmusk interest</td>\n",
              "      <td>0.4588</td>\n",
              "    </tr>\n",
              "    <tr>\n",
              "      <th>1</th>\n",
              "      <td>jhous elonmusk thank later httpstcollwlzoyxa</td>\n",
              "      <td>0.3612</td>\n",
              "    </tr>\n",
              "    <tr>\n",
              "      <th>2</th>\n",
              "      <td>elonmusk im keen smilingfacewithsmilingey</td>\n",
              "      <td>0.3612</td>\n",
              "    </tr>\n",
              "    <tr>\n",
              "      <th>3</th>\n",
              "      <td>elonmusk crypto pump</td>\n",
              "      <td>0.0000</td>\n",
              "    </tr>\n",
              "    <tr>\n",
              "      <th>4</th>\n",
              "      <td>hcyc elonmusk thank later httpstcollwlzoyxa</td>\n",
              "      <td>0.3612</td>\n",
              "    </tr>\n",
              "    <tr>\n",
              "      <th>...</th>\n",
              "      <td>...</td>\n",
              "      <td>...</td>\n",
              "    </tr>\n",
              "    <tr>\n",
              "      <th>20183</th>\n",
              "      <td>elonmusk shıba hakkkında birşeyl söyle artık y...</td>\n",
              "      <td>0.0000</td>\n",
              "    </tr>\n",
              "    <tr>\n",
              "      <th>20184</th>\n",
              "      <td>jaw thusoafrica elonmusk thin atmospher dead p...</td>\n",
              "      <td>-0.6486</td>\n",
              "    </tr>\n",
              "    <tr>\n",
              "      <th>20185</th>\n",
              "      <td>mervaio elonmusk elon</td>\n",
              "      <td>0.0000</td>\n",
              "    </tr>\n",
              "    <tr>\n",
              "      <th>20186</th>\n",
              "      <td>starshiptoken elonmusk hold x gem star rocket ...</td>\n",
              "      <td>0.0000</td>\n",
              "    </tr>\n",
              "    <tr>\n",
              "      <th>20187</th>\n",
              "      <td>elonmusk where’ fin</td>\n",
              "      <td>0.0000</td>\n",
              "    </tr>\n",
              "  </tbody>\n",
              "</table>\n",
              "<p>20188 rows × 2 columns</p>\n",
              "</div>"
            ],
            "text/plain": [
              "                                                    text  compound\n",
              "0                                      elonmusk interest    0.4588\n",
              "1           jhous elonmusk thank later httpstcollwlzoyxa    0.3612\n",
              "2              elonmusk im keen smilingfacewithsmilingey    0.3612\n",
              "3                                   elonmusk crypto pump    0.0000\n",
              "4            hcyc elonmusk thank later httpstcollwlzoyxa    0.3612\n",
              "...                                                  ...       ...\n",
              "20183  elonmusk shıba hakkkında birşeyl söyle artık y...    0.0000\n",
              "20184  jaw thusoafrica elonmusk thin atmospher dead p...   -0.6486\n",
              "20185                              mervaio elonmusk elon    0.0000\n",
              "20186  starshiptoken elonmusk hold x gem star rocket ...    0.0000\n",
              "20187                                elonmusk where’ fin    0.0000\n",
              "\n",
              "[20188 rows x 2 columns]"
            ]
          },
          "metadata": {},
          "execution_count": 327
        }
      ]
    },
    {
      "cell_type": "code",
      "metadata": {
        "id": "4QS83R6_uVBw"
      },
      "source": [
        "data['compound'].values[data['compound'].values >= 0] = 1\n",
        "data['compound'].values[data['compound'].values < 0] = 0\n"
      ],
      "execution_count": null,
      "outputs": []
    },
    {
      "cell_type": "code",
      "metadata": {
        "colab": {
          "base_uri": "https://localhost:8080/",
          "height": 423
        },
        "id": "Dqltnlpqvel3",
        "outputId": "19278d58-3c90-4db5-c1f4-e832c9b6be17"
      },
      "source": [
        "data"
      ],
      "execution_count": null,
      "outputs": [
        {
          "output_type": "execute_result",
          "data": {
            "text/html": [
              "<div>\n",
              "<style scoped>\n",
              "    .dataframe tbody tr th:only-of-type {\n",
              "        vertical-align: middle;\n",
              "    }\n",
              "\n",
              "    .dataframe tbody tr th {\n",
              "        vertical-align: top;\n",
              "    }\n",
              "\n",
              "    .dataframe thead th {\n",
              "        text-align: right;\n",
              "    }\n",
              "</style>\n",
              "<table border=\"1\" class=\"dataframe\">\n",
              "  <thead>\n",
              "    <tr style=\"text-align: right;\">\n",
              "      <th></th>\n",
              "      <th>text</th>\n",
              "      <th>compound</th>\n",
              "    </tr>\n",
              "  </thead>\n",
              "  <tbody>\n",
              "    <tr>\n",
              "      <th>0</th>\n",
              "      <td>elonmusk interest</td>\n",
              "      <td>1.0</td>\n",
              "    </tr>\n",
              "    <tr>\n",
              "      <th>1</th>\n",
              "      <td>jhous elonmusk thank later httpstcollwlzoyxa</td>\n",
              "      <td>1.0</td>\n",
              "    </tr>\n",
              "    <tr>\n",
              "      <th>2</th>\n",
              "      <td>elonmusk im keen smilingfacewithsmilingey</td>\n",
              "      <td>1.0</td>\n",
              "    </tr>\n",
              "    <tr>\n",
              "      <th>3</th>\n",
              "      <td>elonmusk crypto pump</td>\n",
              "      <td>1.0</td>\n",
              "    </tr>\n",
              "    <tr>\n",
              "      <th>4</th>\n",
              "      <td>hcyc elonmusk thank later httpstcollwlzoyxa</td>\n",
              "      <td>1.0</td>\n",
              "    </tr>\n",
              "    <tr>\n",
              "      <th>...</th>\n",
              "      <td>...</td>\n",
              "      <td>...</td>\n",
              "    </tr>\n",
              "    <tr>\n",
              "      <th>20183</th>\n",
              "      <td>elonmusk shıba hakkkında birşeyl söyle artık y...</td>\n",
              "      <td>1.0</td>\n",
              "    </tr>\n",
              "    <tr>\n",
              "      <th>20184</th>\n",
              "      <td>jaw thusoafrica elonmusk thin atmospher dead p...</td>\n",
              "      <td>0.0</td>\n",
              "    </tr>\n",
              "    <tr>\n",
              "      <th>20185</th>\n",
              "      <td>mervaio elonmusk elon</td>\n",
              "      <td>1.0</td>\n",
              "    </tr>\n",
              "    <tr>\n",
              "      <th>20186</th>\n",
              "      <td>starshiptoken elonmusk hold x gem star rocket ...</td>\n",
              "      <td>1.0</td>\n",
              "    </tr>\n",
              "    <tr>\n",
              "      <th>20187</th>\n",
              "      <td>elonmusk where’ fin</td>\n",
              "      <td>1.0</td>\n",
              "    </tr>\n",
              "  </tbody>\n",
              "</table>\n",
              "<p>20188 rows × 2 columns</p>\n",
              "</div>"
            ],
            "text/plain": [
              "                                                    text  compound\n",
              "0                                      elonmusk interest       1.0\n",
              "1           jhous elonmusk thank later httpstcollwlzoyxa       1.0\n",
              "2              elonmusk im keen smilingfacewithsmilingey       1.0\n",
              "3                                   elonmusk crypto pump       1.0\n",
              "4            hcyc elonmusk thank later httpstcollwlzoyxa       1.0\n",
              "...                                                  ...       ...\n",
              "20183  elonmusk shıba hakkkında birşeyl söyle artık y...       1.0\n",
              "20184  jaw thusoafrica elonmusk thin atmospher dead p...       0.0\n",
              "20185                              mervaio elonmusk elon       1.0\n",
              "20186  starshiptoken elonmusk hold x gem star rocket ...       1.0\n",
              "20187                                elonmusk where’ fin       1.0\n",
              "\n",
              "[20188 rows x 2 columns]"
            ]
          },
          "metadata": {},
          "execution_count": 329
        }
      ]
    },
    {
      "cell_type": "code",
      "metadata": {
        "id": "Qaq5S4MpRt7M"
      },
      "source": [
        "X=data.text\n",
        "y=data.compound"
      ],
      "execution_count": null,
      "outputs": []
    },
    {
      "cell_type": "code",
      "metadata": {
        "id": "wrcc5bCuSSeK"
      },
      "source": [
        "#data_neg = data['text'][:800000]\n",
        "#plt.figure(figsize = (20,20))\n",
        "#wc = WordCloud(max_words = 1000 , width = 1600 , height = 800,\n",
        "               #collocations=False).generate(\" \".join(data_neg))\n",
        "#plt.imshow(wc)\n"
      ],
      "execution_count": null,
      "outputs": []
    },
    {
      "cell_type": "code",
      "metadata": {
        "id": "sADFjdMzStcy"
      },
      "source": [
        "#data_pos = data['text'][800000:]\n",
        "#wc = WordCloud(max_words = 1000 , width = 1600 , height = 800,\n",
        "              #collocations=False).generate(\" \".join(data_neg))\n",
        "#plt.figure(figsize = (20,20))\n",
        "#plt.imshow(wc)"
      ],
      "execution_count": null,
      "outputs": []
    },
    {
      "cell_type": "code",
      "metadata": {
        "id": "iOJ7qZwlS9UH"
      },
      "source": [
        "# Separating the 95% data for training data and 5% for testing data\n",
        "X_train, X_test, y_train, y_test = train_test_split(X,y,test_size = 0.05, random_state =26105111)"
      ],
      "execution_count": null,
      "outputs": []
    },
    {
      "cell_type": "code",
      "metadata": {
        "colab": {
          "base_uri": "https://localhost:8080/"
        },
        "id": "cTS1KTSNTFbH",
        "outputId": "0501e5db-fb4f-4733-8e3d-49cc0ab8ca81"
      },
      "source": [
        "vectoriser = TfidfVectorizer(ngram_range=(1,2), max_features=500000)\n",
        "vectoriser.fit(X_train)"
      ],
      "execution_count": null,
      "outputs": [
        {
          "output_type": "execute_result",
          "data": {
            "text/plain": [
              "TfidfVectorizer(max_features=500000, ngram_range=(1, 2))"
            ]
          },
          "metadata": {},
          "execution_count": 334
        }
      ]
    },
    {
      "cell_type": "code",
      "metadata": {
        "id": "4rNjrIQKcFPu"
      },
      "source": [
        ""
      ],
      "execution_count": null,
      "outputs": []
    },
    {
      "cell_type": "code",
      "metadata": {
        "id": "d2IdBYNSTWxc"
      },
      "source": [
        "X_train = vectoriser.transform(X_train)\n",
        "X_test  = vectoriser.transform(X_test)"
      ],
      "execution_count": null,
      "outputs": []
    },
    {
      "cell_type": "code",
      "metadata": {
        "colab": {
          "base_uri": "https://localhost:8080/"
        },
        "id": "tBUgrnyfeQXy",
        "outputId": "092bf597-f120-4f34-8c06-54940b1e0e7b"
      },
      "source": [
        "print(y_test)"
      ],
      "execution_count": null,
      "outputs": [
        {
          "output_type": "stream",
          "name": "stdout",
          "text": [
            "5712     1.0\n",
            "19862    1.0\n",
            "17022    1.0\n",
            "14925    1.0\n",
            "103      1.0\n",
            "        ... \n",
            "13302    1.0\n",
            "9055     1.0\n",
            "4278     1.0\n",
            "19948    1.0\n",
            "17334    1.0\n",
            "Name: compound, Length: 1010, dtype: float64\n"
          ]
        }
      ]
    },
    {
      "cell_type": "code",
      "metadata": {
        "colab": {
          "base_uri": "https://localhost:8080/"
        },
        "id": "i57luDDreYgK",
        "outputId": "0223620c-ca7f-43a7-ff63-6231513d2d51"
      },
      "source": [
        "print(X_test)"
      ],
      "execution_count": null,
      "outputs": [
        {
          "output_type": "stream",
          "name": "stdout",
          "text": [
            "  (0, 67866)\t0.15246053498326834\n",
            "  (0, 67863)\t0.15223187966637938\n",
            "  (0, 66577)\t0.1591112871453836\n",
            "  (0, 66573)\t0.12880271192534362\n",
            "  (0, 66555)\t0.15263282872854955\n",
            "  (0, 66554)\t0.11803048945126103\n",
            "  (0, 66548)\t0.18734723856383687\n",
            "  (0, 65642)\t0.15240325695313126\n",
            "  (0, 65613)\t0.150774569119285\n",
            "  (0, 52690)\t0.15246053498326834\n",
            "  (0, 52655)\t0.15243188642186073\n",
            "  (0, 52638)\t0.29809255009564467\n",
            "  (0, 45610)\t0.15217490549856044\n",
            "  (0, 45607)\t0.10233061743006733\n",
            "  (0, 29533)\t0.10788505363724979\n",
            "  (0, 24610)\t0.15246053498326834\n",
            "  (0, 24609)\t0.15217490549856044\n",
            "  (0, 24595)\t0.09368091336738271\n",
            "  (0, 24593)\t0.15217490549856044\n",
            "  (0, 24591)\t0.18692525550844455\n",
            "  (0, 24578)\t0.15286363393782654\n",
            "  (0, 24574)\t0.10596885068072108\n",
            "  (0, 24564)\t0.1525178894860985\n",
            "  (0, 24561)\t0.09376123015437582\n",
            "  (0, 24555)\t0.11804334935743059\n",
            "  :\t:\n",
            "  (1007, 23694)\t0.15576899627226437\n",
            "  (1007, 23679)\t0.15397847639716336\n",
            "  (1007, 22017)\t0.15532904286102733\n",
            "  (1007, 21981)\t0.1541770027961402\n",
            "  (1007, 20904)\t0.15618364750742098\n",
            "  (1007, 20093)\t0.15506717769759754\n",
            "  (1007, 17391)\t0.08919966686128429\n",
            "  (1007, 12774)\t0.11981760748613407\n",
            "  (1007, 12769)\t0.10326896462752497\n",
            "  (1007, 12259)\t0.1553582359237601\n",
            "  (1007, 12228)\t0.10365268430512621\n",
            "  (1007, 10289)\t0.15506717769759754\n",
            "  (1007, 10284)\t0.15397847639716336\n",
            "  (1007, 5648)\t0.15544593210523425\n",
            "  (1007, 5597)\t0.14979855706084663\n",
            "  (1007, 5424)\t0.1553582359237601\n",
            "  (1007, 5414)\t0.15434788783791994\n",
            "  (1007, 5403)\t0.18765450198080627\n",
            "  (1008, 25528)\t0.7042363892913108\n",
            "  (1008, 18275)\t0.7042363892913108\n",
            "  (1008, 17391)\t0.09001231024629196\n",
            "  (1009, 61711)\t0.6506983631718491\n",
            "  (1009, 45688)\t0.41956280166005006\n",
            "  (1009, 20099)\t0.6263586294750927\n",
            "  (1009, 17391)\t0.09073898231041255\n"
          ]
        }
      ]
    },
    {
      "cell_type": "code",
      "metadata": {
        "id": "hMAT84OSTcdX"
      },
      "source": [
        "def model_Evaluate(model):\n",
        " y_test_arg=(y_test.astype(int))\n",
        " y_pred = model.predict(X_test)\n",
        " print(classification_report(y_test_arg, y_pred))\n",
        " cf_matrix = confusion_matrix(y_test_arg, y_pred)\n",
        " categories = ['Negative','Positive']\n",
        " group_names = ['True Neg', 'False Pos', 'False Neg','True Pos']\n",
        " group_percentages = ['{0:.2%}'.format(value) for value in cf_matrix.flatten() / np.sum(cf_matrix)]\n",
        " labels = [f\"{v1}\\n{v2}\" for v1, v2 in zip(group_names,group_percentages)]\n",
        " labels = np.asarray(labels).reshape(2,2)\n",
        " sns.heatmap(cf_matrix, annot = labels, cmap = 'Blues',fmt = '',\n",
        " xticklabels = categories, yticklabels = categories)\n",
        " plt.xlabel(\"Predicted values\", fontdict = {'size':14}, labelpad = 10)\n",
        " plt.ylabel(\"Actual values\" , fontdict = {'size':14}, labelpad = 10)\n",
        " plt.title (\"Confusion Matrix\", fontdict = {'size':18}, pad = 20)"
      ],
      "execution_count": null,
      "outputs": []
    },
    {
      "cell_type": "code",
      "metadata": {
        "colab": {
          "base_uri": "https://localhost:8080/"
        },
        "id": "XgC8RJgMnKvh",
        "outputId": "034f4acc-96eb-4062-fe14-ee5c5a55d526"
      },
      "source": [
        "print(y_test.astype(int))"
      ],
      "execution_count": null,
      "outputs": [
        {
          "output_type": "stream",
          "name": "stdout",
          "text": [
            "5712     1\n",
            "19862    1\n",
            "17022    1\n",
            "14925    1\n",
            "103      1\n",
            "        ..\n",
            "13302    1\n",
            "9055     1\n",
            "4278     1\n",
            "19948    1\n",
            "17334    1\n",
            "Name: compound, Length: 1010, dtype: int64\n"
          ]
        }
      ]
    },
    {
      "cell_type": "markdown",
      "metadata": {
        "id": "eVYkOyy_TpdU"
      },
      "source": [
        "Model-1   Bernoulli Naive Bayes"
      ]
    },
    {
      "cell_type": "code",
      "metadata": {
        "colab": {
          "base_uri": "https://localhost:8080/",
          "height": 479
        },
        "id": "Xhggs1YlTxg-",
        "outputId": "6016f1c2-d2f1-4295-9d23-809ebd976cc1"
      },
      "source": [
        "BNBmodel = BernoulliNB()\n",
        "BNBmodel.fit(X_train, y_train.astype(int))\n",
        "model_Evaluate(BNBmodel)\n",
        "y_pred1 = BNBmodel.predict(X_test)"
      ],
      "execution_count": null,
      "outputs": [
        {
          "output_type": "stream",
          "name": "stdout",
          "text": [
            "              precision    recall  f1-score   support\n",
            "\n",
            "           0       0.81      0.56      0.67       117\n",
            "           1       0.95      0.98      0.96       893\n",
            "\n",
            "    accuracy                           0.93      1010\n",
            "   macro avg       0.88      0.77      0.82      1010\n",
            "weighted avg       0.93      0.93      0.93      1010\n",
            "\n"
          ]
        },
        {
          "output_type": "display_data",
          "data": {
            "image/png": "[encoded data removed]",
            "text/plain": [
              "<Figure size 432x288 with 2 Axes>"
            ]
          },
          "metadata": {
            "needs_background": "light"
          }
        }
      ]
    },
    {
      "cell_type": "markdown",
      "metadata": {
        "id": "tWS8xYxY9kWi"
      },
      "source": [
        "Model-2     SVM (Support Vector Machine)"
      ]
    },
    {
      "cell_type": "code",
      "metadata": {
        "colab": {
          "base_uri": "https://localhost:8080/",
          "height": 479
        },
        "id": "0T3PTlJh1OlG",
        "outputId": "05583c93-06e9-48d6-ca8c-c7fafc14bc90"
      },
      "source": [
        "SVCmodel = LinearSVC()\n",
        "SVCmodel.fit(X_train, y_train)\n",
        "model_Evaluate(SVCmodel)\n",
        "y_pred2 = SVCmodel.predict(X_test)"
      ],
      "execution_count": null,
      "outputs": [
        {
          "output_type": "stream",
          "name": "stdout",
          "text": [
            "              precision    recall  f1-score   support\n",
            "\n",
            "           0       0.95      0.75      0.84       117\n",
            "           1       0.97      0.99      0.98       893\n",
            "\n",
            "    accuracy                           0.97      1010\n",
            "   macro avg       0.96      0.87      0.91      1010\n",
            "weighted avg       0.97      0.97      0.96      1010\n",
            "\n"
          ]
        },
        {
          "output_type": "display_data",
          "data": {
            "image/png": "[encoded data removed]",
            "text/plain": [
              "<Figure size 432x288 with 2 Axes>"
            ]
          },
          "metadata": {
            "needs_background": "light"
          }
        }
      ]
    },
    {
      "cell_type": "markdown",
      "metadata": {
        "id": "aV4af4289wFL"
      },
      "source": [
        "Model-3   Logistic Regression"
      ]
    },
    {
      "cell_type": "code",
      "metadata": {
        "colab": {
          "base_uri": "https://localhost:8080/",
          "height": 479
        },
        "id": "Rdwfud1J1WTL",
        "outputId": "2547c6cb-2dce-40a3-8718-2ffc457a8399"
      },
      "source": [
        "LRmodel = LogisticRegression(C = 2, max_iter = 1000, n_jobs=-1)\n",
        "LRmodel.fit(X_train, y_train)\n",
        "model_Evaluate(LRmodel)\n",
        "y_pred3 = LRmodel.predict(X_test)"
      ],
      "execution_count": null,
      "outputs": [
        {
          "output_type": "stream",
          "name": "stdout",
          "text": [
            "              precision    recall  f1-score   support\n",
            "\n",
            "           0       0.96      0.65      0.78       117\n",
            "           1       0.96      1.00      0.98       893\n",
            "\n",
            "    accuracy                           0.96      1010\n",
            "   macro avg       0.96      0.82      0.88      1010\n",
            "weighted avg       0.96      0.96      0.95      1010\n",
            "\n"
          ]
        },
        {
          "output_type": "display_data",
          "data": {
            "image/png": "[encoded data removed]",
            "text/plain": [
              "<Figure size 432x288 with 2 Axes>"
            ]
          },
          "metadata": {
            "needs_background": "light"
          }
        }
      ]
    }
  ]
}