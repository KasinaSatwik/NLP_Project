{
  "nbformat": 4,
  "nbformat_minor": 0,
  "metadata": {
    "colab": {
      "name": "Twitter_Replies_Sentiment_Analysis.ipynb",
      "provenance": [],
      "collapsed_sections": []
    },
    "kernelspec": {
      "name": "python3",
      "display_name": "Python 3"
    },
    "language_info": {
      "name": "python"
    }
  },
  "cells": [
    {
      "cell_type": "code",
      "metadata": {
        "colab": {
          "base_uri": "https://localhost:8080/"
        },
        "id": "DzPH9iAPCY7T",
        "outputId": "9279d242-ab90-49c0-8cd9-e6f193929a5f"
      },
      "source": [
        "import numpy as np\n",
        "import pandas as pd\n",
        "from requests.structures import CaseInsensitiveDict\n",
        "import re\n",
        "import string\n",
        "import math\n",
        "import nltk\n",
        "nltk.download('stopwords')\n",
        "from nltk.corpus import stopwords\n",
        "nltk.download('wordnet')\n",
        "from nltk.stem import PorterStemmer\n",
        "from nltk.stem import WordNetLemmatizer"
      ],
      "execution_count": 102,
      "outputs": [
        {
          "output_type": "stream",
          "name": "stdout",
          "text": [
            "[nltk_data] Downloading package stopwords to /root/nltk_data...\n",
            "[nltk_data]   Package stopwords is already up-to-date!\n",
            "[nltk_data] Downloading package wordnet to /root/nltk_data...\n",
            "[nltk_data]   Package wordnet is already up-to-date!\n"
          ]
        }
      ]
    },
    {
      "cell_type": "code",
      "metadata": {
        "colab": {
          "base_uri": "https://localhost:8080/"
        },
        "id": "yjiEoWdzEdS2",
        "outputId": "4c1e477d-48aa-492b-fdc4-8e22bb6a1935"
      },
      "source": [
        "!pip install vaderSentiment"
      ],
      "execution_count": 103,
      "outputs": [
        {
          "output_type": "stream",
          "name": "stdout",
          "text": [
            "Requirement already satisfied: vaderSentiment in /usr/local/lib/python3.7/dist-packages (3.3.2)\n",
            "Requirement already satisfied: requests in /usr/local/lib/python3.7/dist-packages (from vaderSentiment) (2.23.0)\n",
            "Requirement already satisfied: certifi>=2017.4.17 in /usr/local/lib/python3.7/dist-packages (from requests->vaderSentiment) (2021.10.8)\n",
            "Requirement already satisfied: idna<3,>=2.5 in /usr/local/lib/python3.7/dist-packages (from requests->vaderSentiment) (2.10)\n",
            "Requirement already satisfied: urllib3!=1.25.0,!=1.25.1,<1.26,>=1.21.1 in /usr/local/lib/python3.7/dist-packages (from requests->vaderSentiment) (1.24.3)\n",
            "Requirement already satisfied: chardet<4,>=3.0.2 in /usr/local/lib/python3.7/dist-packages (from requests->vaderSentiment) (3.0.4)\n"
          ]
        }
      ]
    },
    {
      "cell_type": "code",
      "metadata": {
        "colab": {
          "base_uri": "https://localhost:8080/"
        },
        "id": "HepguyNhFki8",
        "outputId": "12a17905-d6e9-46a8-ab55-d8836278bcc1"
      },
      "source": [
        "!pip install requests"
      ],
      "execution_count": 104,
      "outputs": [
        {
          "output_type": "stream",
          "name": "stdout",
          "text": [
            "Requirement already satisfied: requests in /usr/local/lib/python3.7/dist-packages (2.23.0)\n",
            "Requirement already satisfied: certifi>=2017.4.17 in /usr/local/lib/python3.7/dist-packages (from requests) (2021.10.8)\n",
            "Requirement already satisfied: urllib3!=1.25.0,!=1.25.1,<1.26,>=1.21.1 in /usr/local/lib/python3.7/dist-packages (from requests) (1.24.3)\n",
            "Requirement already satisfied: idna<3,>=2.5 in /usr/local/lib/python3.7/dist-packages (from requests) (2.10)\n",
            "Requirement already satisfied: chardet<4,>=3.0.2 in /usr/local/lib/python3.7/dist-packages (from requests) (3.0.4)\n"
          ]
        }
      ]
    },
    {
      "cell_type": "code",
      "metadata": {
        "id": "39ozxN86GJZq"
      },
      "source": [
        "import requests"
      ],
      "execution_count": 105,
      "outputs": []
    },
    {
      "cell_type": "code",
      "metadata": {
        "colab": {
          "base_uri": "https://localhost:8080/"
        },
        "id": "BOgzFQwsCs4E",
        "outputId": "2b1b3103-304a-4b16-fe64-bbb25fbf0441"
      },
      "source": [
        "\n",
        "sample_str = input(\"Enter the tweet url: \")"
      ],
      "execution_count": 106,
      "outputs": [
        {
          "name": "stdout",
          "output_type": "stream",
          "text": [
            "Enter the tweet url: https://twitter.com/kunalb11/status/1465516995235893250\n"
          ]
        }
      ]
    },
    {
      "cell_type": "code",
      "metadata": {
        "id": "PD0CHI5gCxYI"
      },
      "source": [
        "last_chars = sample_str[-19:]\n",
        "\n",
        "\n",
        "url1 = \"https://api.twitter.com/2/tweets/search/recent?query=conversation_id:\"\n",
        "url2 = last_chars\n",
        "url3=\"&tweet.fields=in_reply_to_user_id,author_id,created_at,conversation_id\"\n",
        "url4=\"&max_results=100\"\n",
        "url = url1 + url2 + url3 + url4"
      ],
      "execution_count": 107,
      "outputs": []
    },
    {
      "cell_type": "code",
      "metadata": {
        "id": "aUQKz6LOCzuS"
      },
      "source": [
        "headers = CaseInsensitiveDict()\n",
        "headers[\"Authorization\"] = \"Bearer AAAAAAAAAAAAAAAAAAAAALs3WgEAAAAAmMF1Edu5zJbW6P1Nk23n8cuLCy4%3DVOXCgMvL0is2ueBV7BDsxo5WZLdSJGntumosVCrPT26zozhN0k\"\n",
        "\n",
        "\n",
        "response = requests.request(\"GET\", url, headers=headers).json()"
      ],
      "execution_count": 108,
      "outputs": []
    },
    {
      "cell_type": "code",
      "metadata": {
        "colab": {
          "base_uri": "https://localhost:8080/",
          "height": 423
        },
        "id": "9fLPrS_1C2pI",
        "outputId": "ee840459-2c60-4287-a606-96b255fb81c5"
      },
      "source": [
        "df = pd.DataFrame(response['data'])\n",
        "df"
      ],
      "execution_count": 109,
      "outputs": [
        {
          "output_type": "execute_result",
          "data": {
            "text/html": [
              "<div>\n",
              "<style scoped>\n",
              "    .dataframe tbody tr th:only-of-type {\n",
              "        vertical-align: middle;\n",
              "    }\n",
              "\n",
              "    .dataframe tbody tr th {\n",
              "        vertical-align: top;\n",
              "    }\n",
              "\n",
              "    .dataframe thead th {\n",
              "        text-align: right;\n",
              "    }\n",
              "</style>\n",
              "<table border=\"1\" class=\"dataframe\">\n",
              "  <thead>\n",
              "    <tr style=\"text-align: right;\">\n",
              "      <th></th>\n",
              "      <th>id</th>\n",
              "      <th>created_at</th>\n",
              "      <th>text</th>\n",
              "      <th>in_reply_to_user_id</th>\n",
              "      <th>author_id</th>\n",
              "      <th>conversation_id</th>\n",
              "    </tr>\n",
              "  </thead>\n",
              "  <tbody>\n",
              "    <tr>\n",
              "      <th>0</th>\n",
              "      <td>1466806036765954057</td>\n",
              "      <td>2021-12-03T16:26:25.000Z</td>\n",
              "      <td>@kunalb11 I know, what is the problem\\n\\nIIT a...</td>\n",
              "      <td>32332988</td>\n",
              "      <td>1374943548282314754</td>\n",
              "      <td>1465516995235893250</td>\n",
              "    </tr>\n",
              "    <tr>\n",
              "      <th>1</th>\n",
              "      <td>1466794352483598336</td>\n",
              "      <td>2021-12-03T15:40:00.000Z</td>\n",
              "      <td>@kunalb11 Agree there is some major gap</td>\n",
              "      <td>32332988</td>\n",
              "      <td>2616122307</td>\n",
              "      <td>1465516995235893250</td>\n",
              "    </tr>\n",
              "    <tr>\n",
              "      <th>2</th>\n",
              "      <td>1466733152135626756</td>\n",
              "      <td>2021-12-03T11:36:48.000Z</td>\n",
              "      <td>@kunalb11 Reservation, caste , politics  there...</td>\n",
              "      <td>32332988</td>\n",
              "      <td>1364308994043482112</td>\n",
              "      <td>1465516995235893250</td>\n",
              "    </tr>\n",
              "    <tr>\n",
              "      <th>3</th>\n",
              "      <td>1466679008976797699</td>\n",
              "      <td>2021-12-03T08:01:39.000Z</td>\n",
              "      <td>@kunalb11 Of course these are talented people ...</td>\n",
              "      <td>32332988</td>\n",
              "      <td>1440447477761515524</td>\n",
              "      <td>1465516995235893250</td>\n",
              "    </tr>\n",
              "    <tr>\n",
              "      <th>4</th>\n",
              "      <td>1466676750507646982</td>\n",
              "      <td>2021-12-03T07:52:41.000Z</td>\n",
              "      <td>@kunalb11 Faulty education system promoting mu...</td>\n",
              "      <td>32332988</td>\n",
              "      <td>2179982353</td>\n",
              "      <td>1465516995235893250</td>\n",
              "    </tr>\n",
              "    <tr>\n",
              "      <th>...</th>\n",
              "      <td>...</td>\n",
              "      <td>...</td>\n",
              "      <td>...</td>\n",
              "      <td>...</td>\n",
              "      <td>...</td>\n",
              "      <td>...</td>\n",
              "    </tr>\n",
              "    <tr>\n",
              "      <th>95</th>\n",
              "      <td>1465858348918587395</td>\n",
              "      <td>2021-12-01T01:40:39.000Z</td>\n",
              "      <td>@kunalb11 Sir, our top 5 IT Services cos' Reve...</td>\n",
              "      <td>32332988</td>\n",
              "      <td>1010072231110684672</td>\n",
              "      <td>1465516995235893250</td>\n",
              "    </tr>\n",
              "    <tr>\n",
              "      <th>96</th>\n",
              "      <td>1465856843410853891</td>\n",
              "      <td>2021-12-01T01:34:40.000Z</td>\n",
              "      <td>@FaizanHayek @vibinbaburajan @kunalb11 @nsitha...</td>\n",
              "      <td>1240493129997770752</td>\n",
              "      <td>1211538277234143232</td>\n",
              "      <td>1465516995235893250</td>\n",
              "    </tr>\n",
              "    <tr>\n",
              "      <th>97</th>\n",
              "      <td>1465855767567683590</td>\n",
              "      <td>2021-12-01T01:30:23.000Z</td>\n",
              "      <td>@FaizanHayek @vibinbaburajan @kunalb11 @nsitha...</td>\n",
              "      <td>1240493129997770752</td>\n",
              "      <td>1211538277234143232</td>\n",
              "      <td>1465516995235893250</td>\n",
              "    </tr>\n",
              "    <tr>\n",
              "      <th>98</th>\n",
              "      <td>1465854196985434113</td>\n",
              "      <td>2021-12-01T01:24:09.000Z</td>\n",
              "      <td>@kunalb11 Our talent wins in different system,...</td>\n",
              "      <td>32332988</td>\n",
              "      <td>562593554</td>\n",
              "      <td>1465516995235893250</td>\n",
              "    </tr>\n",
              "    <tr>\n",
              "      <th>99</th>\n",
              "      <td>1465844005485236230</td>\n",
              "      <td>2021-12-01T00:43:39.000Z</td>\n",
              "      <td>@kunalb11 Have we not retained enough to becom...</td>\n",
              "      <td>32332988</td>\n",
              "      <td>1207906380272660480</td>\n",
              "      <td>1465516995235893250</td>\n",
              "    </tr>\n",
              "  </tbody>\n",
              "</table>\n",
              "<p>100 rows × 6 columns</p>\n",
              "</div>"
            ],
            "text/plain": [
              "                     id  ...      conversation_id\n",
              "0   1466806036765954057  ...  1465516995235893250\n",
              "1   1466794352483598336  ...  1465516995235893250\n",
              "2   1466733152135626756  ...  1465516995235893250\n",
              "3   1466679008976797699  ...  1465516995235893250\n",
              "4   1466676750507646982  ...  1465516995235893250\n",
              "..                  ...  ...                  ...\n",
              "95  1465858348918587395  ...  1465516995235893250\n",
              "96  1465856843410853891  ...  1465516995235893250\n",
              "97  1465855767567683590  ...  1465516995235893250\n",
              "98  1465854196985434113  ...  1465516995235893250\n",
              "99  1465844005485236230  ...  1465516995235893250\n",
              "\n",
              "[100 rows x 6 columns]"
            ]
          },
          "metadata": {},
          "execution_count": 109
        }
      ]
    },
    {
      "cell_type": "code",
      "metadata": {
        "colab": {
          "base_uri": "https://localhost:8080/"
        },
        "id": "Viyt6qVrXnAf",
        "outputId": "d0a73c44-b9bf-4d35-92e6-7b8417d0ecf8"
      },
      "source": [
        "a = response['meta']\n",
        "print(a)\n",
        "print(len(a))\n",
        "appended_data = []\n",
        "b=0"
      ],
      "execution_count": 110,
      "outputs": [
        {
          "output_type": "stream",
          "name": "stdout",
          "text": [
            "{'newest_id': '1466806036765954057', 'oldest_id': '1465844005485236230', 'result_count': 100, 'next_token': 'b26v89c19zqg8o3fpdy7of29s7g5v65c78ang3d95c8sd'}\n",
            "4\n"
          ]
        }
      ]
    },
    {
      "cell_type": "code",
      "metadata": {
        "id": "slSan09dXwdX"
      },
      "source": [
        "while len(a)==4 and b<=200 :\n",
        "  a1 = \"&next_token=\"\n",
        "  a2 = a['next_token']\n",
        "  urln = url1+url2+url3+a1+a2+url4\n",
        "  headers = CaseInsensitiveDict()\n",
        "  headers[\"Authorization\"] = \"Bearer AAAAAAAAAAAAAAAAAAAAALs3WgEAAAAAmMF1Edu5zJbW6P1Nk23n8cuLCy4%3DVOXCgMvL0is2ueBV7BDsxo5WZLdSJGntumosVCrPT26zozhN0k\"\n",
        "\n",
        "\n",
        "  response = requests.request(\"GET\", urln, headers=headers).json()\n",
        "  df1 = pd.DataFrame(response['data'])\n",
        "  appended_data.append(df1)\n",
        "  a = response['meta']\n",
        "  b=b+1\n",
        "  \n"
      ],
      "execution_count": 111,
      "outputs": []
    },
    {
      "cell_type": "code",
      "metadata": {
        "id": "jMS3o58PYAhb"
      },
      "source": [
        "appended_data = pd.concat(appended_data)"
      ],
      "execution_count": 112,
      "outputs": []
    },
    {
      "cell_type": "code",
      "metadata": {
        "colab": {
          "base_uri": "https://localhost:8080/",
          "height": 423
        },
        "id": "8fqrcGxNYF_8",
        "outputId": "2cf1b7b3-6d30-4b4e-cde6-307c75a80216"
      },
      "source": [
        "df = df.append(appended_data, ignore_index = True)\n",
        "df"
      ],
      "execution_count": 113,
      "outputs": [
        {
          "output_type": "execute_result",
          "data": {
            "text/html": [
              "<div>\n",
              "<style scoped>\n",
              "    .dataframe tbody tr th:only-of-type {\n",
              "        vertical-align: middle;\n",
              "    }\n",
              "\n",
              "    .dataframe tbody tr th {\n",
              "        vertical-align: top;\n",
              "    }\n",
              "\n",
              "    .dataframe thead th {\n",
              "        text-align: right;\n",
              "    }\n",
              "</style>\n",
              "<table border=\"1\" class=\"dataframe\">\n",
              "  <thead>\n",
              "    <tr style=\"text-align: right;\">\n",
              "      <th></th>\n",
              "      <th>id</th>\n",
              "      <th>created_at</th>\n",
              "      <th>text</th>\n",
              "      <th>in_reply_to_user_id</th>\n",
              "      <th>author_id</th>\n",
              "      <th>conversation_id</th>\n",
              "    </tr>\n",
              "  </thead>\n",
              "  <tbody>\n",
              "    <tr>\n",
              "      <th>0</th>\n",
              "      <td>1466806036765954057</td>\n",
              "      <td>2021-12-03T16:26:25.000Z</td>\n",
              "      <td>@kunalb11 I know, what is the problem\\n\\nIIT a...</td>\n",
              "      <td>32332988</td>\n",
              "      <td>1374943548282314754</td>\n",
              "      <td>1465516995235893250</td>\n",
              "    </tr>\n",
              "    <tr>\n",
              "      <th>1</th>\n",
              "      <td>1466794352483598336</td>\n",
              "      <td>2021-12-03T15:40:00.000Z</td>\n",
              "      <td>@kunalb11 Agree there is some major gap</td>\n",
              "      <td>32332988</td>\n",
              "      <td>2616122307</td>\n",
              "      <td>1465516995235893250</td>\n",
              "    </tr>\n",
              "    <tr>\n",
              "      <th>2</th>\n",
              "      <td>1466733152135626756</td>\n",
              "      <td>2021-12-03T11:36:48.000Z</td>\n",
              "      <td>@kunalb11 Reservation, caste , politics  there...</td>\n",
              "      <td>32332988</td>\n",
              "      <td>1364308994043482112</td>\n",
              "      <td>1465516995235893250</td>\n",
              "    </tr>\n",
              "    <tr>\n",
              "      <th>3</th>\n",
              "      <td>1466679008976797699</td>\n",
              "      <td>2021-12-03T08:01:39.000Z</td>\n",
              "      <td>@kunalb11 Of course these are talented people ...</td>\n",
              "      <td>32332988</td>\n",
              "      <td>1440447477761515524</td>\n",
              "      <td>1465516995235893250</td>\n",
              "    </tr>\n",
              "    <tr>\n",
              "      <th>4</th>\n",
              "      <td>1466676750507646982</td>\n",
              "      <td>2021-12-03T07:52:41.000Z</td>\n",
              "      <td>@kunalb11 Faulty education system promoting mu...</td>\n",
              "      <td>32332988</td>\n",
              "      <td>2179982353</td>\n",
              "      <td>1465516995235893250</td>\n",
              "    </tr>\n",
              "    <tr>\n",
              "      <th>...</th>\n",
              "      <td>...</td>\n",
              "      <td>...</td>\n",
              "      <td>...</td>\n",
              "      <td>...</td>\n",
              "      <td>...</td>\n",
              "      <td>...</td>\n",
              "    </tr>\n",
              "    <tr>\n",
              "      <th>1008</th>\n",
              "      <td>1465517384366637056</td>\n",
              "      <td>2021-11-30T03:05:47.000Z</td>\n",
              "      <td>@kunalb11 @PankajSurana08</td>\n",
              "      <td>32332988</td>\n",
              "      <td>1271082089366970368</td>\n",
              "      <td>1465516995235893250</td>\n",
              "    </tr>\n",
              "    <tr>\n",
              "      <th>1009</th>\n",
              "      <td>1465517330922835976</td>\n",
              "      <td>2021-11-30T03:05:34.000Z</td>\n",
              "      <td>@kunalb11 Agree with @kunalb11</td>\n",
              "      <td>32332988</td>\n",
              "      <td>129180601</td>\n",
              "      <td>1465516995235893250</td>\n",
              "    </tr>\n",
              "    <tr>\n",
              "      <th>1010</th>\n",
              "      <td>1465517283300675587</td>\n",
              "      <td>2021-11-30T03:05:22.000Z</td>\n",
              "      <td>@kunalb11 https://t.co/Qer6txmu9a</td>\n",
              "      <td>32332988</td>\n",
              "      <td>1376464326853230593</td>\n",
              "      <td>1465516995235893250</td>\n",
              "    </tr>\n",
              "    <tr>\n",
              "      <th>1011</th>\n",
              "      <td>1465517210865131528</td>\n",
              "      <td>2021-11-30T03:05:05.000Z</td>\n",
              "      <td>@kunalb11 Reservations?</td>\n",
              "      <td>32332988</td>\n",
              "      <td>1635192679</td>\n",
              "      <td>1465516995235893250</td>\n",
              "    </tr>\n",
              "    <tr>\n",
              "      <th>1012</th>\n",
              "      <td>1465517123069825024</td>\n",
              "      <td>2021-11-30T03:04:44.000Z</td>\n",
              "      <td>@kunalb11 The Indian urge to restrict innovati...</td>\n",
              "      <td>32332988</td>\n",
              "      <td>134439659</td>\n",
              "      <td>1465516995235893250</td>\n",
              "    </tr>\n",
              "  </tbody>\n",
              "</table>\n",
              "<p>1013 rows × 6 columns</p>\n",
              "</div>"
            ],
            "text/plain": [
              "                       id  ...      conversation_id\n",
              "0     1466806036765954057  ...  1465516995235893250\n",
              "1     1466794352483598336  ...  1465516995235893250\n",
              "2     1466733152135626756  ...  1465516995235893250\n",
              "3     1466679008976797699  ...  1465516995235893250\n",
              "4     1466676750507646982  ...  1465516995235893250\n",
              "...                   ...  ...                  ...\n",
              "1008  1465517384366637056  ...  1465516995235893250\n",
              "1009  1465517330922835976  ...  1465516995235893250\n",
              "1010  1465517283300675587  ...  1465516995235893250\n",
              "1011  1465517210865131528  ...  1465516995235893250\n",
              "1012  1465517123069825024  ...  1465516995235893250\n",
              "\n",
              "[1013 rows x 6 columns]"
            ]
          },
          "metadata": {},
          "execution_count": 113
        }
      ]
    },
    {
      "cell_type": "code",
      "metadata": {
        "colab": {
          "base_uri": "https://localhost:8080/",
          "height": 423
        },
        "id": "sIgI2l-wC-GX",
        "outputId": "758b5e21-3a28-4698-8677-56e71fbea807"
      },
      "source": [
        "data = df.drop(columns=['author_id', 'id', 'conversation_id', 'in_reply_to_user_id', 'created_at'])\n",
        "data"
      ],
      "execution_count": 114,
      "outputs": [
        {
          "output_type": "execute_result",
          "data": {
            "text/html": [
              "<div>\n",
              "<style scoped>\n",
              "    .dataframe tbody tr th:only-of-type {\n",
              "        vertical-align: middle;\n",
              "    }\n",
              "\n",
              "    .dataframe tbody tr th {\n",
              "        vertical-align: top;\n",
              "    }\n",
              "\n",
              "    .dataframe thead th {\n",
              "        text-align: right;\n",
              "    }\n",
              "</style>\n",
              "<table border=\"1\" class=\"dataframe\">\n",
              "  <thead>\n",
              "    <tr style=\"text-align: right;\">\n",
              "      <th></th>\n",
              "      <th>text</th>\n",
              "    </tr>\n",
              "  </thead>\n",
              "  <tbody>\n",
              "    <tr>\n",
              "      <th>0</th>\n",
              "      <td>@kunalb11 I know, what is the problem\\n\\nIIT a...</td>\n",
              "    </tr>\n",
              "    <tr>\n",
              "      <th>1</th>\n",
              "      <td>@kunalb11 Agree there is some major gap</td>\n",
              "    </tr>\n",
              "    <tr>\n",
              "      <th>2</th>\n",
              "      <td>@kunalb11 Reservation, caste , politics  there...</td>\n",
              "    </tr>\n",
              "    <tr>\n",
              "      <th>3</th>\n",
              "      <td>@kunalb11 Of course these are talented people ...</td>\n",
              "    </tr>\n",
              "    <tr>\n",
              "      <th>4</th>\n",
              "      <td>@kunalb11 Faulty education system promoting mu...</td>\n",
              "    </tr>\n",
              "    <tr>\n",
              "      <th>...</th>\n",
              "      <td>...</td>\n",
              "    </tr>\n",
              "    <tr>\n",
              "      <th>1008</th>\n",
              "      <td>@kunalb11 @PankajSurana08</td>\n",
              "    </tr>\n",
              "    <tr>\n",
              "      <th>1009</th>\n",
              "      <td>@kunalb11 Agree with @kunalb11</td>\n",
              "    </tr>\n",
              "    <tr>\n",
              "      <th>1010</th>\n",
              "      <td>@kunalb11 https://t.co/Qer6txmu9a</td>\n",
              "    </tr>\n",
              "    <tr>\n",
              "      <th>1011</th>\n",
              "      <td>@kunalb11 Reservations?</td>\n",
              "    </tr>\n",
              "    <tr>\n",
              "      <th>1012</th>\n",
              "      <td>@kunalb11 The Indian urge to restrict innovati...</td>\n",
              "    </tr>\n",
              "  </tbody>\n",
              "</table>\n",
              "<p>1013 rows × 1 columns</p>\n",
              "</div>"
            ],
            "text/plain": [
              "                                                   text\n",
              "0     @kunalb11 I know, what is the problem\\n\\nIIT a...\n",
              "1               @kunalb11 Agree there is some major gap\n",
              "2     @kunalb11 Reservation, caste , politics  there...\n",
              "3     @kunalb11 Of course these are talented people ...\n",
              "4     @kunalb11 Faulty education system promoting mu...\n",
              "...                                                 ...\n",
              "1008                          @kunalb11 @PankajSurana08\n",
              "1009                     @kunalb11 Agree with @kunalb11\n",
              "1010                  @kunalb11 https://t.co/Qer6txmu9a\n",
              "1011                            @kunalb11 Reservations?\n",
              "1012  @kunalb11 The Indian urge to restrict innovati...\n",
              "\n",
              "[1013 rows x 1 columns]"
            ]
          },
          "metadata": {},
          "execution_count": 114
        }
      ]
    },
    {
      "cell_type": "markdown",
      "metadata": {
        "id": "KP_HI73r0gcU"
      },
      "source": [
        "-------------------------------------------------TEXT PREPROCESSING------------------------------------------------------"
      ]
    },
    {
      "cell_type": "code",
      "metadata": {
        "colab": {
          "base_uri": "https://localhost:8080/"
        },
        "id": "TymyayE-DOJg",
        "outputId": "85c48817-8dc1-4a3b-c818-0834c2fad92e"
      },
      "source": [
        "from google.colab import drive\n",
        "drive.mount('/content/gdrive')"
      ],
      "execution_count": 115,
      "outputs": [
        {
          "output_type": "stream",
          "name": "stdout",
          "text": [
            "Drive already mounted at /content/gdrive; to attempt to forcibly remount, call drive.mount(\"/content/gdrive\", force_remount=True).\n"
          ]
        }
      ]
    },
    {
      "cell_type": "code",
      "metadata": {
        "colab": {
          "base_uri": "https://localhost:8080/"
        },
        "id": "mtcGaxcSDSk4",
        "outputId": "a465758b-f711-47d4-a8dc-82758617c17e"
      },
      "source": [
        "%cd gdrive/My Drive/NLP_Project"
      ],
      "execution_count": 116,
      "outputs": [
        {
          "output_type": "stream",
          "name": "stdout",
          "text": [
            "[Errno 2] No such file or directory: 'gdrive/My Drive/NLP_Project'\n",
            "/content/gdrive/My Drive/NLP_Project\n"
          ]
        }
      ]
    },
    {
      "cell_type": "code",
      "metadata": {
        "colab": {
          "base_uri": "https://localhost:8080/"
        },
        "id": "fZbhr0VXDVrc",
        "outputId": "ba2e9f95-a318-43e2-f426-0a2ebef4be5a"
      },
      "source": [
        "! git clone https://github.com/carpedm20/emoji"
      ],
      "execution_count": 117,
      "outputs": [
        {
          "output_type": "stream",
          "name": "stdout",
          "text": [
            "fatal: destination path 'emoji' already exists and is not an empty directory.\n"
          ]
        }
      ]
    },
    {
      "cell_type": "code",
      "metadata": {
        "colab": {
          "base_uri": "https://localhost:8080/"
        },
        "id": "z2jY26txDYyO",
        "outputId": "da11413f-7b6f-43b8-c6a3-3d0320b72f47"
      },
      "source": [
        "! pip install emoji --upgrade"
      ],
      "execution_count": 118,
      "outputs": [
        {
          "output_type": "stream",
          "name": "stdout",
          "text": [
            "Requirement already satisfied: emoji in /usr/local/lib/python3.7/dist-packages (1.6.1)\n"
          ]
        }
      ]
    },
    {
      "cell_type": "code",
      "metadata": {
        "id": "cuXhixYrDfnl"
      },
      "source": [
        "import emoji"
      ],
      "execution_count": 119,
      "outputs": []
    },
    {
      "cell_type": "code",
      "metadata": {
        "id": "BavzaIQyDieQ"
      },
      "source": [
        "for i in range(len(data['text'])):\n",
        "  data['text'][i] = emoji.demojize(data['text'][i])"
      ],
      "execution_count": 120,
      "outputs": []
    },
    {
      "cell_type": "code",
      "metadata": {
        "id": "JmdFx0DUDt18"
      },
      "source": [
        "data['text'] = data['text'].str.lower()"
      ],
      "execution_count": 121,
      "outputs": []
    },
    {
      "cell_type": "code",
      "metadata": {
        "id": "aCT0d80mDxdx"
      },
      "source": [
        "data['text'] = data['text'].apply(lambda x: re.sub('[%s]' % re.escape(string.punctuation), '' , x))\n",
        "data['text'] = data['text'].apply(lambda x: re.sub('\"','',x))\n",
        "data['text'] = data['text'].apply(lambda x: re.sub('[0-9]+','',x))"
      ],
      "execution_count": 122,
      "outputs": []
    },
    {
      "cell_type": "code",
      "metadata": {
        "id": "jxZrE7kzECWH"
      },
      "source": [
        "stop_words = set(stopwords.words('english'))\n",
        "stop_words.add('subject')\n",
        "stop_words.add('http')\n",
        "def remove_stopwords(text):\n",
        "    return \" \".join([word for word in str(text).split() if word not in stop_words])\n",
        "    \n",
        "data['text'] = data['text'].apply(lambda x: remove_stopwords(x))"
      ],
      "execution_count": 123,
      "outputs": []
    },
    {
      "cell_type": "code",
      "metadata": {
        "id": "2oWh_9lSEGR2"
      },
      "source": [
        "stemmer = PorterStemmer()\n",
        "def stem_words(text):\n",
        "    return \" \".join([stemmer.stem(word) for word in text.split()])\n",
        "data[\"text\"] = data[\"text\"].apply(lambda x: stem_words(x))"
      ],
      "execution_count": 124,
      "outputs": []
    },
    {
      "cell_type": "code",
      "metadata": {
        "id": "ylkCDApaEJR8"
      },
      "source": [
        "lemmatizer = WordNetLemmatizer()\n",
        "def lemmatize_words(text):\n",
        "    return \" \".join([lemmatizer.lemmatize(word) for word in text.split()])\n",
        "data[\"text\"] = data[\"text\"].apply(lambda text: lemmatize_words(text))"
      ],
      "execution_count": 125,
      "outputs": []
    },
    {
      "cell_type": "code",
      "metadata": {
        "id": "Oz_VzSXgEL3m"
      },
      "source": [
        "data[\"text\"] = data[\"text\"].apply(lambda x: re.sub(' +', ' ', x))"
      ],
      "execution_count": 126,
      "outputs": []
    },
    {
      "cell_type": "code",
      "metadata": {
        "colab": {
          "base_uri": "https://localhost:8080/",
          "height": 423
        },
        "id": "Nz8pfkFkER2X",
        "outputId": "b5d2468c-de2c-4c33-a771-9f9b5baf3f2c"
      },
      "source": [
        "data"
      ],
      "execution_count": 127,
      "outputs": [
        {
          "output_type": "execute_result",
          "data": {
            "text/html": [
              "<div>\n",
              "<style scoped>\n",
              "    .dataframe tbody tr th:only-of-type {\n",
              "        vertical-align: middle;\n",
              "    }\n",
              "\n",
              "    .dataframe tbody tr th {\n",
              "        vertical-align: top;\n",
              "    }\n",
              "\n",
              "    .dataframe thead th {\n",
              "        text-align: right;\n",
              "    }\n",
              "</style>\n",
              "<table border=\"1\" class=\"dataframe\">\n",
              "  <thead>\n",
              "    <tr style=\"text-align: right;\">\n",
              "      <th></th>\n",
              "      <th>text</th>\n",
              "    </tr>\n",
              "  </thead>\n",
              "  <tbody>\n",
              "    <tr>\n",
              "      <th>0</th>\n",
              "      <td>kunalb know problem iit top institut actual se...</td>\n",
              "    </tr>\n",
              "    <tr>\n",
              "      <th>1</th>\n",
              "      <td>kunalb agre major gap</td>\n",
              "    </tr>\n",
              "    <tr>\n",
              "      <th>2</th>\n",
              "      <td>kunalb reserv cast polit space talent indiatal...</td>\n",
              "    </tr>\n",
              "    <tr>\n",
              "      <th>3</th>\n",
              "      <td>kunalb cours talent peopl ecosystem insid outs...</td>\n",
              "    </tr>\n",
              "    <tr>\n",
              "      <th>4</th>\n",
              "      <td>kunalb faulti educ system promot mug concept r...</td>\n",
              "    </tr>\n",
              "    <tr>\n",
              "      <th>...</th>\n",
              "      <td>...</td>\n",
              "    </tr>\n",
              "    <tr>\n",
              "      <th>1008</th>\n",
              "      <td>kunalb pankajsurana</td>\n",
              "    </tr>\n",
              "    <tr>\n",
              "      <th>1009</th>\n",
              "      <td>kunalb agre kunalb</td>\n",
              "    </tr>\n",
              "    <tr>\n",
              "      <th>1010</th>\n",
              "      <td>kunalb httpstcoqertxmua</td>\n",
              "    </tr>\n",
              "    <tr>\n",
              "      <th>1011</th>\n",
              "      <td>kunalb reserv</td>\n",
              "    </tr>\n",
              "    <tr>\n",
              "      <th>1012</th>\n",
              "      <td>kunalb indian urg restrict innov tech like cry...</td>\n",
              "    </tr>\n",
              "  </tbody>\n",
              "</table>\n",
              "<p>1013 rows × 1 columns</p>\n",
              "</div>"
            ],
            "text/plain": [
              "                                                   text\n",
              "0     kunalb know problem iit top institut actual se...\n",
              "1                                 kunalb agre major gap\n",
              "2     kunalb reserv cast polit space talent indiatal...\n",
              "3     kunalb cours talent peopl ecosystem insid outs...\n",
              "4     kunalb faulti educ system promot mug concept r...\n",
              "...                                                 ...\n",
              "1008                                kunalb pankajsurana\n",
              "1009                                 kunalb agre kunalb\n",
              "1010                            kunalb httpstcoqertxmua\n",
              "1011                                      kunalb reserv\n",
              "1012  kunalb indian urg restrict innov tech like cry...\n",
              "\n",
              "[1013 rows x 1 columns]"
            ]
          },
          "metadata": {},
          "execution_count": 127
        }
      ]
    },
    {
      "cell_type": "markdown",
      "metadata": {
        "id": "xv_uJrPG0xYX"
      },
      "source": [
        "--------------------------------------------------SENTIMENT ANALYSIS---------------------------------------------------"
      ]
    },
    {
      "cell_type": "code",
      "metadata": {
        "id": "0mEqiHEnEUx4"
      },
      "source": [
        "from vaderSentiment.vaderSentiment import SentimentIntensityAnalyzer\n",
        "analyzer = SentimentIntensityAnalyzer()"
      ],
      "execution_count": 128,
      "outputs": []
    },
    {
      "cell_type": "code",
      "metadata": {
        "id": "60a1BxrEEqan"
      },
      "source": [
        "tweetsWithSent = []\n",
        "\n",
        "for i in range(len(data['text'])):\n",
        "  text = data['text'][i]\n",
        "  ps = analyzer.polarity_scores(text)\n",
        "  tweetsWithSent.append({'text':text, 'compound':ps['compound']})"
      ],
      "execution_count": 129,
      "outputs": []
    },
    {
      "cell_type": "code",
      "metadata": {
        "colab": {
          "base_uri": "https://localhost:8080/",
          "height": 290
        },
        "id": "_SGv82H_Eu1m",
        "outputId": "9ed82ed9-1a74-4e43-f16c-79de4bf80b49"
      },
      "source": [
        "tweetdf = pd.DataFrame(tweetsWithSent)\n",
        "tweetdfsample = tweetdf.sample(100)\n",
        "tweetdfsample.plot.bar(figsize=(30,5),width=1)"
      ],
      "execution_count": 130,
      "outputs": [
        {
          "output_type": "execute_result",
          "data": {
            "text/plain": [
              "<matplotlib.axes._subplots.AxesSubplot at 0x7f44e9eba310>"
            ]
          },
          "metadata": {},
          "execution_count": 130
        },
        {
          "output_type": "display_data",
          "data": {
            "image/png": "[encoded data removed]",
            "text/plain": [
              "<Figure size 2160x360 with 1 Axes>"
            ]
          },
          "metadata": {
            "needs_background": "light"
          }
        }
      ]
    },
    {
      "cell_type": "code",
      "metadata": {
        "id": "7Ee6kilqd2G-",
        "colab": {
          "base_uri": "https://localhost:8080/",
          "height": 423
        },
        "outputId": "d44da7a4-d99a-479f-cec7-2af875f918f6"
      },
      "source": [
        "tweetdf"
      ],
      "execution_count": 131,
      "outputs": [
        {
          "output_type": "execute_result",
          "data": {
            "text/html": [
              "<div>\n",
              "<style scoped>\n",
              "    .dataframe tbody tr th:only-of-type {\n",
              "        vertical-align: middle;\n",
              "    }\n",
              "\n",
              "    .dataframe tbody tr th {\n",
              "        vertical-align: top;\n",
              "    }\n",
              "\n",
              "    .dataframe thead th {\n",
              "        text-align: right;\n",
              "    }\n",
              "</style>\n",
              "<table border=\"1\" class=\"dataframe\">\n",
              "  <thead>\n",
              "    <tr style=\"text-align: right;\">\n",
              "      <th></th>\n",
              "      <th>text</th>\n",
              "      <th>compound</th>\n",
              "    </tr>\n",
              "  </thead>\n",
              "  <tbody>\n",
              "    <tr>\n",
              "      <th>0</th>\n",
              "      <td>kunalb know problem iit top institut actual se...</td>\n",
              "      <td>0.2500</td>\n",
              "    </tr>\n",
              "    <tr>\n",
              "      <th>1</th>\n",
              "      <td>kunalb agre major gap</td>\n",
              "      <td>0.0000</td>\n",
              "    </tr>\n",
              "    <tr>\n",
              "      <th>2</th>\n",
              "      <td>kunalb reserv cast polit space talent indiatal...</td>\n",
              "      <td>0.4215</td>\n",
              "    </tr>\n",
              "    <tr>\n",
              "      <th>3</th>\n",
              "      <td>kunalb cours talent peopl ecosystem insid outs...</td>\n",
              "      <td>0.7717</td>\n",
              "    </tr>\n",
              "    <tr>\n",
              "      <th>4</th>\n",
              "      <td>kunalb faulti educ system promot mug concept r...</td>\n",
              "      <td>-0.6597</td>\n",
              "    </tr>\n",
              "    <tr>\n",
              "      <th>...</th>\n",
              "      <td>...</td>\n",
              "      <td>...</td>\n",
              "    </tr>\n",
              "    <tr>\n",
              "      <th>1008</th>\n",
              "      <td>kunalb pankajsurana</td>\n",
              "      <td>0.0000</td>\n",
              "    </tr>\n",
              "    <tr>\n",
              "      <th>1009</th>\n",
              "      <td>kunalb agre kunalb</td>\n",
              "      <td>0.0000</td>\n",
              "    </tr>\n",
              "    <tr>\n",
              "      <th>1010</th>\n",
              "      <td>kunalb httpstcoqertxmua</td>\n",
              "      <td>0.0000</td>\n",
              "    </tr>\n",
              "    <tr>\n",
              "      <th>1011</th>\n",
              "      <td>kunalb reserv</td>\n",
              "      <td>0.0000</td>\n",
              "    </tr>\n",
              "    <tr>\n",
              "      <th>1012</th>\n",
              "      <td>kunalb indian urg restrict innov tech like cry...</td>\n",
              "      <td>0.3612</td>\n",
              "    </tr>\n",
              "  </tbody>\n",
              "</table>\n",
              "<p>1013 rows × 2 columns</p>\n",
              "</div>"
            ],
            "text/plain": [
              "                                                   text  compound\n",
              "0     kunalb know problem iit top institut actual se...    0.2500\n",
              "1                                 kunalb agre major gap    0.0000\n",
              "2     kunalb reserv cast polit space talent indiatal...    0.4215\n",
              "3     kunalb cours talent peopl ecosystem insid outs...    0.7717\n",
              "4     kunalb faulti educ system promot mug concept r...   -0.6597\n",
              "...                                                 ...       ...\n",
              "1008                                kunalb pankajsurana    0.0000\n",
              "1009                                 kunalb agre kunalb    0.0000\n",
              "1010                            kunalb httpstcoqertxmua    0.0000\n",
              "1011                                      kunalb reserv    0.0000\n",
              "1012  kunalb indian urg restrict innov tech like cry...    0.3612\n",
              "\n",
              "[1013 rows x 2 columns]"
            ]
          },
          "metadata": {},
          "execution_count": 131
        }
      ]
    },
    {
      "cell_type": "code",
      "metadata": {
        "id": "PiEAfR8NOc1h"
      },
      "source": [
        "#tweetdf.to_csv('final.csv')"
      ],
      "execution_count": 132,
      "outputs": []
    }
  ]
}